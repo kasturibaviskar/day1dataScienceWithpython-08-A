{
 "cells": [
  {
   "cell_type": "code",
   "execution_count": 12,
   "id": "71997ff5",
   "metadata": {},
   "outputs": [],
   "source": [
    "A = 20  \n",
    "# A => variable\n",
    "# = => assignment operator\n",
    "# 20 => data"
   ]
  },
  {
   "cell_type": "code",
   "execution_count": 13,
   "id": "6b48c5dd",
   "metadata": {},
   "outputs": [
    {
     "data": {
      "text/plain": [
       "20"
      ]
     },
     "execution_count": 13,
     "metadata": {},
     "output_type": "execute_result"
    }
   ],
   "source": [
    "A\n",
    "# it is benefitial than print function because we can directly print the A"
   ]
  },
  {
   "cell_type": "code",
   "execution_count": 15,
   "id": "4bd95285",
   "metadata": {},
   "outputs": [
    {
     "name": "stdout",
     "output_type": "stream",
     "text": [
      "20\n"
     ]
    }
   ],
   "source": [
    "print(A)\n",
    "# print()=> function\n",
    "# userdefined is also called as plugins"
   ]
  },
  {
   "cell_type": "code",
   "execution_count": 23,
   "id": "b103f9a7",
   "metadata": {},
   "outputs": [
    {
     "data": {
      "text/plain": [
       "'kasturi baviskar'"
      ]
     },
     "execution_count": 23,
     "metadata": {},
     "output_type": "execute_result"
    }
   ],
   "source": [
    "a = \"kasturi baviskar\"\n",
    "a = 'kasturi baviskar'\n",
    "a = '''kasturi baviskar'''\n",
    "a"
   ]
  },
  {
   "cell_type": "code",
   "execution_count": 25,
   "id": "e8fac876",
   "metadata": {},
   "outputs": [
    {
     "data": {
      "text/plain": [
       "'kasturibaviskar'"
      ]
     },
     "execution_count": 25,
     "metadata": {},
     "output_type": "execute_result"
    }
   ],
   "source": [
    "a = \"kasturi\"\n",
    "b = \"baviskar\"\n",
    "c = a+b\n",
    "#concatenation=> joining of two strings\n",
    "c"
   ]
  },
  {
   "cell_type": "code",
   "execution_count": 1,
   "id": "ac58eaa8",
   "metadata": {},
   "outputs": [
    {
     "name": "stdout",
     "output_type": "stream",
     "text": [
      "kasturi baviskar\n"
     ]
    }
   ],
   "source": [
    "print(\"kasturi baviskar\")\n"
   ]
  },
  {
   "cell_type": "code",
   "execution_count": 4,
   "id": "26e5650c",
   "metadata": {},
   "outputs": [
    {
     "name": "stdout",
     "output_type": "stream",
     "text": [
      "kasturi\n",
      "baviskar\n"
     ]
    }
   ],
   "source": [
    "print (\"kasturi\\nbaviskar\") # \\n for new line=> escape letter\n"
   ]
  },
  {
   "cell_type": "code",
   "execution_count": 5,
   "id": "6edbd4ee",
   "metadata": {},
   "outputs": [
    {
     "name": "stdout",
     "output_type": "stream",
     "text": [
      "kasturi\tbaviskar\n"
     ]
    }
   ],
   "source": [
    "print(\"kasturi\\tbaviskar\") # \\t => tab => four space => wide spcae => used for paragraph"
   ]
  },
  {
   "cell_type": "code",
   "execution_count": 27,
   "id": "b03c4d6c",
   "metadata": {},
   "outputs": [
    {
     "data": {
      "text/plain": [
       "int"
      ]
     },
     "execution_count": 27,
     "metadata": {},
     "output_type": "execute_result"
    }
   ],
   "source": [
    "a = 20\n",
    "type(a) #type of data"
   ]
  },
  {
   "cell_type": "code",
   "execution_count": 28,
   "id": "0ae3b83c",
   "metadata": {},
   "outputs": [
    {
     "data": {
      "text/plain": [
       "str"
      ]
     },
     "execution_count": 28,
     "metadata": {},
     "output_type": "execute_result"
    }
   ],
   "source": [
    "a = 'kasturi'\n",
    "type(a)"
   ]
  }
 ],
 "metadata": {
  "kernelspec": {
   "display_name": "Python 3 (ipykernel)",
   "language": "python",
   "name": "python3"
  },
  "language_info": {
   "codemirror_mode": {
    "name": "ipython",
    "version": 3
   },
   "file_extension": ".py",
   "mimetype": "text/x-python",
   "name": "python",
   "nbconvert_exporter": "python",
   "pygments_lexer": "ipython3",
   "version": "3.9.7"
  }
 },
 "nbformat": 4,
 "nbformat_minor": 5
}
